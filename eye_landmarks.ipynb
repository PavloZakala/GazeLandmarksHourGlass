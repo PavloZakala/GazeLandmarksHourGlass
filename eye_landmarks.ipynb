{
  "nbformat": 4,
  "nbformat_minor": 0,
  "metadata": {
    "colab": {
      "name": "eye_landmarks.ipynb",
      "provenance": [],
      "collapsed_sections": [],
      "include_colab_link": true
    },
    "kernelspec": {
      "name": "python3",
      "display_name": "Python 3"
    },
    "accelerator": "GPU"
  },
  "cells": [
    {
      "cell_type": "markdown",
      "metadata": {
        "id": "view-in-github",
        "colab_type": "text"
      },
      "source": [
        "<a href=\"https://colab.research.google.com/github/ZPavlo/GazeLandmarksHourGlass/blob/main/eye_landmarks.ipynb\" target=\"_parent\"><img src=\"https://colab.research.google.com/assets/colab-badge.svg\" alt=\"Open In Colab\"/></a>"
      ]
    },
    {
      "cell_type": "code",
      "metadata": {
        "colab": {
          "base_uri": "https://localhost:8080/"
        },
        "id": "XvQBIcUeIl-0",
        "outputId": "d699e37d-219f-41c7-fdcd-98f1f6e8777d"
      },
      "source": [
        "%matplotlib inline\n",
        "\n",
        "from google.colab import drive\n",
        "drive.mount('/content/gdrive')\n",
        "ROOT_DATA = 'gdrive/MyDrive/unityeye/'"
      ],
      "execution_count": 1,
      "outputs": [
        {
          "output_type": "stream",
          "text": [
            "Mounted at /content/gdrive\n"
          ],
          "name": "stdout"
        }
      ]
    },
    {
      "cell_type": "code",
      "metadata": {
        "colab": {
          "base_uri": "https://localhost:8080/"
        },
        "id": "MnODasSwjXV1",
        "outputId": "22d00fba-4655-4aae-dc24-5be5bfaf7ce7"
      },
      "source": [
        "import os, sys\n",
        "\n",
        "!git clone https://github.com/ZPavlo/GazeLandmarksHourGlass \n",
        "sys.path.append(\"GazeLandmarksHourGlass\")"
      ],
      "execution_count": 2,
      "outputs": [
        {
          "output_type": "stream",
          "text": [
            "Cloning into 'GazeLandmarksHourGlass'...\n",
            "remote: Enumerating objects: 81, done.\u001b[K\n",
            "remote: Counting objects: 100% (81/81), done.\u001b[K\n",
            "remote: Compressing objects: 100% (54/54), done.\u001b[K\n",
            "remote: Total 81 (delta 34), reused 63 (delta 22), pack-reused 0\u001b[K\n",
            "Unpacking objects: 100% (81/81), done.\n"
          ],
          "name": "stdout"
        }
      ]
    },
    {
      "cell_type": "code",
      "metadata": {
        "colab": {
          "base_uri": "https://localhost:8080/"
        },
        "id": "sRkGWyiwNffI",
        "outputId": "3575ba1d-27d3-4eff-99de-ddc30e4ec46c"
      },
      "source": [
        "!pip install progress"
      ],
      "execution_count": 3,
      "outputs": [
        {
          "output_type": "stream",
          "text": [
            "Collecting progress\n",
            "  Downloading https://files.pythonhosted.org/packages/38/ef/2e887b3d2b248916fc2121889ce68af8a16aaddbe82f9ae6533c24ff0d2b/progress-1.5.tar.gz\n",
            "Building wheels for collected packages: progress\n",
            "  Building wheel for progress (setup.py) ... \u001b[?25l\u001b[?25hdone\n",
            "  Created wheel for progress: filename=progress-1.5-cp36-none-any.whl size=8074 sha256=cc2812883fdf9afa1c355cad950d9f419a3f0d24f131915a290fec9bdb06ec56\n",
            "  Stored in directory: /root/.cache/pip/wheels/6c/c8/80/32a294e3041f006c661838c05a411c7b7ffc60ff939d14e116\n",
            "Successfully built progress\n",
            "Installing collected packages: progress\n",
            "Successfully installed progress-1.5\n"
          ],
          "name": "stdout"
        }
      ]
    },
    {
      "cell_type": "code",
      "metadata": {
        "id": "3kGfLbI94hJV"
      },
      "source": [
        "import torch \n",
        "\n",
        "device = torch.device(\"cuda\" if torch.cuda.is_available() else \"cpu\")"
      ],
      "execution_count": 4,
      "outputs": []
    },
    {
      "cell_type": "code",
      "metadata": {
        "colab": {
          "base_uri": "https://localhost:8080/"
        },
        "id": "B2fbEJFdKF9S",
        "outputId": "4660fce1-8de5-4244-8ff6-cc97796a215c"
      },
      "source": [
        "from model.hourglass import HourglassNet\n",
        "\n",
        "NUM_STACKS = 3\n",
        "NUM_BLOCKS = 4\n",
        "NUM_CLASSES = 17\n",
        "print(\"==> creating model: stacks={}, blocks={}\".format(NUM_STACKS, NUM_BLOCKS))\n",
        "model = HourglassNet(num_stacks=NUM_STACKS, num_blocks=NUM_BLOCKS, num_classes=NUM_CLASSES)\n",
        "model = model.to(device)"
      ],
      "execution_count": 5,
      "outputs": [
        {
          "output_type": "stream",
          "text": [
            "==> creating model: stacks=3, blocks=4\n"
          ],
          "name": "stdout"
        }
      ]
    },
    {
      "cell_type": "code",
      "metadata": {
        "id": "4O7mEMaNKiLx"
      },
      "source": [
        "from losses import JointsMSELoss\n",
        "from utils.optimizer import get_optimizer\n",
        "\n",
        "LR = 0.0001\n",
        "\n",
        "criterion = JointsMSELoss().to(device)\n",
        "optimizer = get_optimizer(\"adam\", model, lr=LR)"
      ],
      "execution_count": 6,
      "outputs": []
    },
    {
      "cell_type": "code",
      "metadata": {
        "colab": {
          "base_uri": "https://localhost:8080/"
        },
        "id": "fdAiiChXU5tv",
        "outputId": "3bc17194-7000-45cf-8f8b-6caa9e91773b"
      },
      "source": [
        "from utils.data_preprocessing import EyeLandmarksDataset, TrainDataset, TestDataset\n",
        "from torch.utils.data import DataLoader\n",
        "\n",
        "unity_eye = EyeLandmarksDataset(ROOT_DATA, load_full=True)\n",
        "train_dataset = TrainDataset(unity_eye, data_config={\n",
        "    \"max_shift\": (5, 7),\n",
        "    \"delta_scale\": 0.4,\n",
        "    \"max_rotation_angle\": 0.5,\n",
        "    \"image_size\": (128, 96),\n",
        "    \"line_count\": 2,\n",
        "    \"down_up_scale\": 0.4,\n",
        "    \"sigma_head_map\": 35.0,\n",
        "})\n",
        "\n",
        "test_dataset = TestDataset(unity_eye, {\n",
        "    \"line_count\": 0,\n",
        "    \"image_size\": (128, 96),\n",
        "})"
      ],
      "execution_count": 7,
      "outputs": [
        {
          "output_type": "stream",
          "text": [
            "100%|██████████| 10/10 [02:15<00:00, 13.59s/it]\n"
          ],
          "name": "stderr"
        },
        {
          "output_type": "stream",
          "text": [
            "***********************************\n",
            "Max shift: (5, 7)\n",
            "Delta scale: 0.4\n",
            "Max rotation angle: 0.5\n",
            "Image size: (128, 96)\n",
            "Line count: 2\n",
            "Down up scale: 0.4\n",
            "Sigma head map: 35.0\n",
            "***********************************\n",
            "***********************************\n",
            "Max shift: (3, 4)\n",
            "Delta scale: 0.0\n",
            "Max rotation angle: 0.3\n",
            "Image size: (128, 96)\n",
            "Line count: 0\n",
            "Down up scale: 0.0\n",
            "Sigma head map: 1.0\n",
            "***********************************\n"
          ],
          "name": "stdout"
        }
      ]
    },
    {
      "cell_type": "code",
      "metadata": {
        "id": "pUGhnz5jK1rg"
      },
      "source": [
        "from train import train, validate\n",
        "from utils.tools import adjust_learning_rate, save_checkpoint\n",
        "lr = LR\n",
        "\n",
        "lrs = []\n",
        "train_losses = []\n",
        "valid_losses = []\n",
        "train_acc_list = []\n",
        "valid_acc_list = []\n",
        "start_epoch = 0\n",
        "best_acc = 0.0"
      ],
      "execution_count": 8,
      "outputs": []
    },
    {
      "cell_type": "code",
      "metadata": {
        "id": "Z7413YO2SZ3i"
      },
      "source": [
        "BATCH_SIZE = 16\n",
        "NUM_WORKERS = 1\n",
        "\n",
        "train_dataloader = DataLoader(train_dataset, batch_size=BATCH_SIZE, shuffle=True, num_workers=NUM_WORKERS)\n",
        "test_dataloader = DataLoader(test_dataset, batch_size=BATCH_SIZE, num_workers=NUM_WORKERS)"
      ],
      "execution_count": 9,
      "outputs": []
    },
    {
      "cell_type": "code",
      "metadata": {
        "id": "UQJMo0Tr57EP",
        "colab": {
          "base_uri": "https://localhost:8080/",
          "height": 1000
        },
        "outputId": "93a39ee2-c97b-41c2-9d84-f14cfe261827"
      },
      "source": [
        "import numpy as np\n",
        "\n",
        "EPOCH_SIZE = 5\n",
        "SNAPSHOT = 1\n",
        "CHECKPOINT_PATH = r\"/content/gdrive/MyDrive/exp1\"\n",
        "\n",
        "difficult = np.linspace(0.15, 0.95, EPOCH_SIZE)\n",
        "\n",
        "SCHEDULE = [3, 6, 9]\n",
        "GAMMA = 0.8\n",
        "\n",
        "for epoch in range(start_epoch, EPOCH_SIZE):\n",
        "    lr = adjust_learning_rate(optimizer, epoch, lr, SCHEDULE, GAMMA)\n",
        "    print('\\nEpoch: %d | LR: %.8f' % (epoch + 1, lr))\n",
        "\n",
        "    train_dataset.set_difficult(difficult[epoch])\n",
        "    test_dataset.set_difficult(difficult[epoch])\n",
        "    # train for one epoch\n",
        "    train_loss, train_acc, best_acc = train(train_dataloader, model, criterion, optimizer, print_step=10,\n",
        "                                            save_step=900, checkpoint_path=CHECKPOINT_PATH, best_acc=best_acc)\n",
        "\n",
        "    # evaluate on validation set\n",
        "    valid_loss, valid_acc, best_acc = validate(test_dataloader, model, criterion, print_step=10, best_acc=best_acc)\n",
        "\n",
        "    save_checkpoint({\n",
        "        'epoch': epoch + 1,\n",
        "        'state_dict': model.state_dict(),\n",
        "        'best_acc': max(valid_acc, best_acc),\n",
        "        'optimizer': optimizer.state_dict(),\n",
        "    }, valid_acc > best_acc, checkpoint=CHECKPOINT_PATH, snapshot=SNAPSHOT)\n"
      ],
      "execution_count": 12,
      "outputs": [
        {
          "output_type": "stream",
          "text": [
            "\n",
            "Epoch: 1 | LR: 0.00010000\n",
            "(10/2657) Batch: 1.265s | Total: 0:00:12 | ETA: 0:56:10 | Loss: 3.10e-01 | Acc:  0.652,  0.967\n",
            "(20/2657) Batch: 1.310s | Total: 0:00:25 | ETA: 0:56:17 | Loss: 2.89e-01 | Acc:  0.643,  0.952\n",
            "(30/2657) Batch: 1.251s | Total: 0:00:38 | ETA: 0:55:02 | Loss: 2.69e-01 | Acc:  0.618,  0.956\n",
            "(40/2657) Batch: 1.236s | Total: 0:00:50 | ETA: 0:54:01 | Loss: 2.52e-01 | Acc:  0.713,  0.996\n",
            "(50/2657) Batch: 1.209s | Total: 0:01:02 | ETA: 0:53:45 | Loss: 2.36e-01 | Acc:  0.660,  0.949\n",
            "(60/2657) Batch: 1.155s | Total: 0:01:14 | ETA: 0:51:23 | Loss: 2.22e-01 | Acc:  0.691,  0.971\n",
            "(70/2657) Batch: 1.340s | Total: 0:01:26 | ETA: 0:51:52 | Loss: 2.09e-01 | Acc:  0.698,  0.967\n",
            "(80/2657) Batch: 1.170s | Total: 0:01:39 | ETA: 0:54:20 | Loss: 1.98e-01 | Acc:  0.646,  0.982\n",
            "(90/2657) Batch: 1.190s | Total: 0:01:51 | ETA: 0:52:25 | Loss: 1.88e-01 | Acc:  0.594,  0.952\n",
            "(100/2657) Batch: 1.233s | Total: 0:02:03 | ETA: 0:52:42 | Loss: 1.78e-01 | Acc:  0.611,  0.949\n",
            "(110/2657) Batch: 1.310s | Total: 0:02:16 | ETA: 0:52:02 | Loss: 1.70e-01 | Acc:  0.693,  0.956\n",
            "(120/2657) Batch: 1.266s | Total: 0:02:28 | ETA: 0:53:21 | Loss: 1.62e-01 | Acc:  0.768,  1.000\n",
            "(130/2657) Batch: 1.159s | Total: 0:02:40 | ETA: 0:51:42 | Loss: 1.55e-01 | Acc:  0.684,  0.956\n",
            "(140/2657) Batch: 1.334s | Total: 0:02:53 | ETA: 0:52:03 | Loss: 1.49e-01 | Acc:  0.822,  0.989\n",
            "(150/2657) Batch: 1.286s | Total: 0:03:05 | ETA: 0:52:10 | Loss: 1.43e-01 | Acc:  0.801,  0.993\n",
            "(160/2657) Batch: 1.174s | Total: 0:03:18 | ETA: 0:51:33 | Loss: 1.37e-01 | Acc:  0.734,  0.963\n",
            "(170/2657) Batch: 1.149s | Total: 0:03:30 | ETA: 0:51:37 | Loss: 1.32e-01 | Acc:  0.844,  1.000\n",
            "(180/2657) Batch: 1.229s | Total: 0:03:42 | ETA: 0:50:33 | Loss: 1.27e-01 | Acc:  0.848,  1.000\n",
            "(190/2657) Batch: 1.263s | Total: 0:03:55 | ETA: 0:51:08 | Loss: 1.23e-01 | Acc:  0.830,  0.996\n",
            "(200/2657) Batch: 1.199s | Total: 0:04:07 | ETA: 0:50:35 | Loss: 1.19e-01 | Acc:  0.853,  0.978\n",
            "(210/2657) Batch: 1.152s | Total: 0:04:19 | ETA: 0:50:13 | Loss: 1.15e-01 | Acc:  0.826,  0.993\n",
            "(220/2657) Batch: 1.329s | Total: 0:04:32 | ETA: 0:50:32 | Loss: 1.11e-01 | Acc:  0.875,  0.996\n",
            "(230/2657) Batch: 1.158s | Total: 0:04:44 | ETA: 0:50:27 | Loss: 1.08e-01 | Acc:  0.887,  1.000\n",
            "(240/2657) Batch: 1.142s | Total: 0:04:57 | ETA: 0:49:31 | Loss: 1.05e-01 | Acc:  0.870,  1.000\n",
            "(250/2657) Batch: 1.159s | Total: 0:05:09 | ETA: 0:48:32 | Loss: 1.02e-01 | Acc:  0.887,  0.993\n",
            "(260/2657) Batch: 1.316s | Total: 0:05:21 | ETA: 0:49:04 | Loss: 9.91e-02 | Acc:  0.875,  1.000\n",
            "(270/2657) Batch: 1.283s | Total: 0:05:33 | ETA: 0:48:58 | Loss: 9.65e-02 | Acc:  0.894,  1.000\n",
            "(280/2657) Batch: 1.318s | Total: 0:05:46 | ETA: 0:49:16 | Loss: 9.41e-02 | Acc:  0.899,  1.000\n",
            "(290/2657) Batch: 1.160s | Total: 0:05:58 | ETA: 0:49:00 | Loss: 9.17e-02 | Acc:  0.890,  1.000\n",
            "(300/2657) Batch: 1.158s | Total: 0:06:10 | ETA: 0:47:54 | Loss: 8.96e-02 | Acc:  0.892,  1.000\n",
            "(310/2657) Batch: 1.143s | Total: 0:06:22 | ETA: 0:47:11 | Loss: 8.75e-02 | Acc:  0.909,  1.000\n",
            "(320/2657) Batch: 1.367s | Total: 0:06:35 | ETA: 0:49:18 | Loss: 8.55e-02 | Acc:  0.907,  1.000\n",
            "(330/2657) Batch: 1.197s | Total: 0:06:48 | ETA: 0:48:52 | Loss: 8.36e-02 | Acc:  0.924,  1.000\n",
            "(340/2657) Batch: 1.228s | Total: 0:07:00 | ETA: 0:47:14 | Loss: 8.19e-02 | Acc:  0.917,  1.000\n",
            "(350/2657) Batch: 1.220s | Total: 0:07:12 | ETA: 0:46:17 | Loss: 8.01e-02 | Acc:  0.920,  1.000\n",
            "(360/2657) Batch: 1.175s | Total: 0:07:24 | ETA: 0:46:27 | Loss: 7.85e-02 | Acc:  0.912,  1.000\n",
            "(370/2657) Batch: 1.217s | Total: 0:07:37 | ETA: 0:48:38 | Loss: 7.70e-02 | Acc:  0.914,  1.000\n",
            "(380/2657) Batch: 1.214s | Total: 0:07:49 | ETA: 0:47:11 | Loss: 7.55e-02 | Acc:  0.930,  1.000\n",
            "(390/2657) Batch: 1.276s | Total: 0:08:01 | ETA: 0:45:39 | Loss: 7.40e-02 | Acc:  0.922,  1.000\n",
            "(400/2657) Batch: 1.279s | Total: 0:08:13 | ETA: 0:45:04 | Loss: 7.27e-02 | Acc:  0.909,  0.996\n",
            "(410/2657) Batch: 1.226s | Total: 0:08:26 | ETA: 0:45:58 | Loss: 7.14e-02 | Acc:  0.925,  1.000\n",
            "(420/2657) Batch: 1.163s | Total: 0:08:38 | ETA: 0:46:03 | Loss: 7.01e-02 | Acc:  0.934,  1.000\n",
            "(430/2657) Batch: 1.157s | Total: 0:08:50 | ETA: 0:45:37 | Loss: 6.89e-02 | Acc:  0.927,  1.000\n",
            "(440/2657) Batch: 1.227s | Total: 0:09:02 | ETA: 0:44:57 | Loss: 6.77e-02 | Acc:  0.913,  1.000\n",
            "(450/2657) Batch: 1.357s | Total: 0:09:15 | ETA: 0:44:55 | Loss: 6.66e-02 | Acc:  0.915,  1.000\n",
            "(460/2657) Batch: 1.155s | Total: 0:09:27 | ETA: 0:44:46 | Loss: 6.55e-02 | Acc:  0.936,  1.000\n",
            "(470/2657) Batch: 1.284s | Total: 0:09:39 | ETA: 0:44:49 | Loss: 6.45e-02 | Acc:  0.935,  1.000\n",
            "(480/2657) Batch: 1.224s | Total: 0:09:52 | ETA: 0:45:33 | Loss: 6.35e-02 | Acc:  0.928,  1.000\n",
            "(490/2657) Batch: 1.159s | Total: 0:10:04 | ETA: 0:43:49 | Loss: 6.25e-02 | Acc:  0.938,  1.000\n",
            "(500/2657) Batch: 1.325s | Total: 0:10:16 | ETA: 0:43:52 | Loss: 6.16e-02 | Acc:  0.931,  1.000\n",
            "(510/2657) Batch: 1.213s | Total: 0:10:28 | ETA: 0:43:28 | Loss: 6.07e-02 | Acc:  0.935,  1.000\n",
            "(520/2657) Batch: 1.211s | Total: 0:10:40 | ETA: 0:43:38 | Loss: 5.98e-02 | Acc:  0.943,  1.000\n",
            "(530/2657) Batch: 1.151s | Total: 0:10:52 | ETA: 0:43:08 | Loss: 5.89e-02 | Acc:  0.938,  1.000\n",
            "(540/2657) Batch: 1.312s | Total: 0:11:05 | ETA: 0:43:00 | Loss: 5.81e-02 | Acc:  0.937,  1.000\n",
            "(550/2657) Batch: 1.144s | Total: 0:11:17 | ETA: 0:44:00 | Loss: 5.73e-02 | Acc:  0.934,  1.000\n",
            "(560/2657) Batch: 1.136s | Total: 0:11:29 | ETA: 0:42:25 | Loss: 5.65e-02 | Acc:  0.935,  1.000\n",
            "(570/2657) Batch: 1.196s | Total: 0:11:41 | ETA: 0:42:16 | Loss: 5.58e-02 | Acc:  0.929,  1.000\n",
            "(580/2657) Batch: 1.206s | Total: 0:11:53 | ETA: 0:41:12 | Loss: 5.51e-02 | Acc:  0.943,  1.000\n",
            "(590/2657) Batch: 1.202s | Total: 0:12:06 | ETA: 0:42:00 | Loss: 5.43e-02 | Acc:  0.949,  1.000\n",
            "(600/2657) Batch: 1.131s | Total: 0:12:18 | ETA: 0:41:28 | Loss: 5.37e-02 | Acc:  0.944,  1.000\n",
            "(610/2657) Batch: 1.128s | Total: 0:12:30 | ETA: 0:41:12 | Loss: 5.30e-02 | Acc:  0.932,  1.000\n",
            "(620/2657) Batch: 1.149s | Total: 0:12:42 | ETA: 0:41:04 | Loss: 5.23e-02 | Acc:  0.949,  1.000\n",
            "(630/2657) Batch: 1.312s | Total: 0:12:54 | ETA: 0:40:05 | Loss: 5.17e-02 | Acc:  0.926,  1.000\n",
            "(640/2657) Batch: 1.140s | Total: 0:13:06 | ETA: 0:40:26 | Loss: 5.11e-02 | Acc:  0.952,  1.000\n",
            "(650/2657) Batch: 1.130s | Total: 0:13:18 | ETA: 0:40:23 | Loss: 5.05e-02 | Acc:  0.945,  1.000\n",
            "(660/2657) Batch: 1.135s | Total: 0:13:30 | ETA: 0:39:35 | Loss: 4.99e-02 | Acc:  0.945,  1.000\n",
            "(670/2657) Batch: 1.144s | Total: 0:13:41 | ETA: 0:39:29 | Loss: 4.93e-02 | Acc:  0.951,  1.000\n",
            "(680/2657) Batch: 1.143s | Total: 0:13:54 | ETA: 0:40:13 | Loss: 4.88e-02 | Acc:  0.933,  1.000\n",
            "(690/2657) Batch: 1.226s | Total: 0:14:06 | ETA: 0:40:44 | Loss: 4.82e-02 | Acc:  0.951,  1.000\n",
            "(700/2657) Batch: 1.154s | Total: 0:14:18 | ETA: 0:39:37 | Loss: 4.77e-02 | Acc:  0.945,  1.000\n",
            "(710/2657) Batch: 1.211s | Total: 0:14:31 | ETA: 0:40:42 | Loss: 4.72e-02 | Acc:  0.947,  1.000\n",
            "(720/2657) Batch: 1.141s | Total: 0:14:43 | ETA: 0:40:22 | Loss: 4.67e-02 | Acc:  0.958,  1.000\n",
            "(730/2657) Batch: 1.198s | Total: 0:14:55 | ETA: 0:38:08 | Loss: 4.62e-02 | Acc:  0.941,  1.000\n",
            "(740/2657) Batch: 1.140s | Total: 0:15:07 | ETA: 0:37:18 | Loss: 4.57e-02 | Acc:  0.952,  1.000\n",
            "(750/2657) Batch: 1.256s | Total: 0:15:19 | ETA: 0:37:45 | Loss: 4.52e-02 | Acc:  0.954,  1.000\n",
            "(760/2657) Batch: 1.210s | Total: 0:15:30 | ETA: 0:37:18 | Loss: 4.48e-02 | Acc:  0.942,  1.000\n",
            "(770/2657) Batch: 1.143s | Total: 0:15:42 | ETA: 0:37:36 | Loss: 4.43e-02 | Acc:  0.955,  1.000\n",
            "(780/2657) Batch: 1.194s | Total: 0:15:54 | ETA: 0:36:57 | Loss: 4.39e-02 | Acc:  0.947,  1.000\n",
            "(790/2657) Batch: 1.146s | Total: 0:16:06 | ETA: 0:37:39 | Loss: 4.35e-02 | Acc:  0.948,  1.000\n",
            "(800/2657) Batch: 1.116s | Total: 0:16:18 | ETA: 0:37:09 | Loss: 4.30e-02 | Acc:  0.948,  1.000\n",
            "(810/2657) Batch: 1.155s | Total: 0:16:30 | ETA: 0:36:36 | Loss: 4.26e-02 | Acc:  0.954,  1.000\n",
            "(820/2657) Batch: 1.150s | Total: 0:16:42 | ETA: 0:36:03 | Loss: 4.22e-02 | Acc:  0.950,  1.000\n",
            "(830/2657) Batch: 1.388s | Total: 0:16:54 | ETA: 0:37:36 | Loss: 4.18e-02 | Acc:  0.960,  1.000\n",
            "(840/2657) Batch: 1.140s | Total: 0:17:06 | ETA: 0:37:03 | Loss: 4.14e-02 | Acc:  0.948,  1.000\n",
            "(850/2657) Batch: 1.132s | Total: 0:17:18 | ETA: 0:36:02 | Loss: 4.11e-02 | Acc:  0.954,  1.000\n",
            "(860/2657) Batch: 1.124s | Total: 0:17:31 | ETA: 0:36:15 | Loss: 4.07e-02 | Acc:  0.951,  1.000\n",
            "(870/2657) Batch: 1.144s | Total: 0:17:43 | ETA: 0:35:56 | Loss: 4.03e-02 | Acc:  0.956,  1.000\n",
            "(880/2657) Batch: 1.157s | Total: 0:17:54 | ETA: 0:35:15 | Loss: 4.00e-02 | Acc:  0.960,  1.000\n",
            "(890/2657) Batch: 1.292s | Total: 0:18:07 | ETA: 0:35:38 | Loss: 3.96e-02 | Acc:  0.952,  1.000\n",
            "(900/2657) Batch: 1.207s | Total: 0:18:19 | ETA: 0:35:49 | Loss: 3.93e-02 | Acc:  0.959,  1.000\n",
            "(910/2657) Batch: 1.181s | Total: 0:18:31 | ETA: 0:35:20 | Loss: 3.89e-02 | Acc:  0.948,  1.000\n",
            "(920/2657) Batch: 1.311s | Total: 0:18:43 | ETA: 0:35:44 | Loss: 3.86e-02 | Acc:  0.956,  1.000\n",
            "(930/2657) Batch: 1.140s | Total: 0:18:55 | ETA: 0:35:05 | Loss: 3.83e-02 | Acc:  0.949,  1.000\n",
            "(940/2657) Batch: 1.149s | Total: 0:19:07 | ETA: 0:33:39 | Loss: 3.79e-02 | Acc:  0.955,  1.000\n",
            "(950/2657) Batch: 1.267s | Total: 0:19:19 | ETA: 0:33:47 | Loss: 3.76e-02 | Acc:  0.963,  1.000\n",
            "(960/2657) Batch: 1.230s | Total: 0:19:31 | ETA: 0:34:36 | Loss: 3.73e-02 | Acc:  0.958,  1.000\n",
            "(970/2657) Batch: 1.151s | Total: 0:19:44 | ETA: 0:34:33 | Loss: 3.70e-02 | Acc:  0.957,  1.000\n",
            "(980/2657) Batch: 1.247s | Total: 0:19:56 | ETA: 0:35:21 | Loss: 3.67e-02 | Acc:  0.960,  1.000\n",
            "(990/2657) Batch: 1.243s | Total: 0:20:08 | ETA: 0:33:49 | Loss: 3.64e-02 | Acc:  0.960,  1.000\n",
            "(1000/2657) Batch: 1.238s | Total: 0:20:21 | ETA: 0:33:58 | Loss: 3.61e-02 | Acc:  0.953,  1.000\n",
            "(1010/2657) Batch: 1.182s | Total: 0:20:33 | ETA: 0:32:41 | Loss: 3.58e-02 | Acc:  0.959,  1.000\n",
            "(1020/2657) Batch: 1.231s | Total: 0:20:45 | ETA: 0:33:30 | Loss: 3.56e-02 | Acc:  0.955,  1.000\n",
            "(1030/2657) Batch: 1.194s | Total: 0:20:57 | ETA: 0:32:27 | Loss: 3.53e-02 | Acc:  0.958,  1.000\n",
            "(1040/2657) Batch: 1.290s | Total: 0:21:09 | ETA: 0:32:20 | Loss: 3.50e-02 | Acc:  0.953,  1.000\n",
            "(1050/2657) Batch: 1.162s | Total: 0:21:21 | ETA: 0:32:44 | Loss: 3.47e-02 | Acc:  0.959,  1.000\n",
            "(1060/2657) Batch: 1.157s | Total: 0:21:33 | ETA: 0:32:28 | Loss: 3.45e-02 | Acc:  0.960,  1.000\n",
            "(1070/2657) Batch: 1.155s | Total: 0:21:46 | ETA: 0:32:55 | Loss: 3.42e-02 | Acc:  0.962,  1.000\n",
            "(1080/2657) Batch: 1.135s | Total: 0:21:58 | ETA: 0:31:43 | Loss: 3.40e-02 | Acc:  0.958,  1.000\n",
            "(1090/2657) Batch: 1.199s | Total: 0:22:10 | ETA: 0:31:02 | Loss: 3.37e-02 | Acc:  0.958,  1.000\n",
            "(1100/2657) Batch: 1.153s | Total: 0:22:22 | ETA: 0:31:24 | Loss: 3.35e-02 | Acc:  0.959,  1.000\n",
            "(1110/2657) Batch: 1.269s | Total: 0:22:34 | ETA: 0:31:21 | Loss: 3.32e-02 | Acc:  0.953,  1.000\n",
            "(1120/2657) Batch: 1.187s | Total: 0:22:46 | ETA: 0:31:26 | Loss: 3.30e-02 | Acc:  0.962,  1.000\n",
            "(1130/2657) Batch: 1.254s | Total: 0:22:58 | ETA: 0:30:54 | Loss: 3.28e-02 | Acc:  0.955,  1.000\n",
            "(1140/2657) Batch: 1.228s | Total: 0:23:10 | ETA: 0:30:54 | Loss: 3.25e-02 | Acc:  0.958,  1.000\n",
            "(1150/2657) Batch: 1.152s | Total: 0:23:22 | ETA: 0:30:24 | Loss: 3.23e-02 | Acc:  0.966,  1.000\n",
            "(1160/2657) Batch: 1.278s | Total: 0:23:35 | ETA: 0:30:52 | Loss: 3.21e-02 | Acc:  0.960,  1.000\n",
            "(1170/2657) Batch: 1.161s | Total: 0:23:47 | ETA: 0:31:22 | Loss: 3.18e-02 | Acc:  0.960,  1.000\n",
            "(1180/2657) Batch: 1.220s | Total: 0:24:00 | ETA: 0:29:56 | Loss: 3.16e-02 | Acc:  0.955,  1.000\n",
            "(1190/2657) Batch: 1.171s | Total: 0:24:12 | ETA: 0:29:52 | Loss: 3.14e-02 | Acc:  0.960,  1.000\n",
            "(1200/2657) Batch: 1.270s | Total: 0:24:24 | ETA: 0:29:47 | Loss: 3.12e-02 | Acc:  0.965,  1.000\n",
            "Save checkpoint /content/gdrive/My Drive/checkpoints/exp1\n"
          ],
          "name": "stdout"
        },
        {
          "output_type": "error",
          "ename": "FileNotFoundError",
          "evalue": "ignored",
          "traceback": [
            "\u001b[0;31m---------------------------------------------------------------------------\u001b[0m",
            "\u001b[0;31mFileNotFoundError\u001b[0m                         Traceback (most recent call last)",
            "\u001b[0;32m<ipython-input-12-2273dbbbc716>\u001b[0m in \u001b[0;36m<module>\u001b[0;34m()\u001b[0m\n\u001b[1;32m     18\u001b[0m     \u001b[0;31m# train for one epoch\u001b[0m\u001b[0;34m\u001b[0m\u001b[0;34m\u001b[0m\u001b[0;34m\u001b[0m\u001b[0m\n\u001b[1;32m     19\u001b[0m     train_loss, train_acc, best_acc = train(train_dataloader, model, criterion, optimizer, print_step=10,\n\u001b[0;32m---> 20\u001b[0;31m                                             save_step=1200, checkpoint_path=CHECKPOINT_PATH, best_acc=best_acc)\n\u001b[0m\u001b[1;32m     21\u001b[0m \u001b[0;34m\u001b[0m\u001b[0m\n\u001b[1;32m     22\u001b[0m     \u001b[0;31m# evaluate on validation set\u001b[0m\u001b[0;34m\u001b[0m\u001b[0;34m\u001b[0m\u001b[0;34m\u001b[0m\u001b[0m\n",
            "\u001b[0;32m/content/GazeLandmarksHourGlass/train.py\u001b[0m in \u001b[0;36mtrain\u001b[0;34m(train_loader, model, criterion, optimizer, print_step, save_step, best_acc, checkpoint_path)\u001b[0m\n\u001b[1;32m     79\u001b[0m                 \u001b[0;34m'best_acc'\u001b[0m\u001b[0;34m:\u001b[0m \u001b[0macc\u001b[0m\u001b[0;34m[\u001b[0m\u001b[0;36m0\u001b[0m\u001b[0;34m]\u001b[0m\u001b[0;34m,\u001b[0m\u001b[0;34m\u001b[0m\u001b[0;34m\u001b[0m\u001b[0m\n\u001b[1;32m     80\u001b[0m                 \u001b[0;34m'optimizer'\u001b[0m\u001b[0;34m:\u001b[0m \u001b[0moptimizer\u001b[0m\u001b[0;34m.\u001b[0m\u001b[0mstate_dict\u001b[0m\u001b[0;34m(\u001b[0m\u001b[0;34m)\u001b[0m\u001b[0;34m,\u001b[0m\u001b[0;34m\u001b[0m\u001b[0;34m\u001b[0m\u001b[0m\n\u001b[0;32m---> 81\u001b[0;31m             }, checkpoint=checkpoint_path)\n\u001b[0m\u001b[1;32m     82\u001b[0m \u001b[0;34m\u001b[0m\u001b[0m\n\u001b[1;32m     83\u001b[0m     \u001b[0mbar\u001b[0m\u001b[0;34m.\u001b[0m\u001b[0mfinish\u001b[0m\u001b[0;34m(\u001b[0m\u001b[0;34m)\u001b[0m\u001b[0;34m\u001b[0m\u001b[0;34m\u001b[0m\u001b[0m\n",
            "\u001b[0;32m/content/GazeLandmarksHourGlass/utils/tools.py\u001b[0m in \u001b[0;36msave_checkpoint_during_time\u001b[0;34m(state, checkpoint)\u001b[0m\n\u001b[1;32m    107\u001b[0m \u001b[0;32mdef\u001b[0m \u001b[0msave_checkpoint_during_time\u001b[0m\u001b[0;34m(\u001b[0m\u001b[0mstate\u001b[0m\u001b[0;34m,\u001b[0m \u001b[0mcheckpoint\u001b[0m\u001b[0;34m)\u001b[0m\u001b[0;34m:\u001b[0m\u001b[0;34m\u001b[0m\u001b[0;34m\u001b[0m\u001b[0m\n\u001b[1;32m    108\u001b[0m     \u001b[0mfilepath\u001b[0m \u001b[0;34m=\u001b[0m \u001b[0mos\u001b[0m\u001b[0;34m.\u001b[0m\u001b[0mpath\u001b[0m\u001b[0;34m.\u001b[0m\u001b[0mjoin\u001b[0m\u001b[0;34m(\u001b[0m\u001b[0mcheckpoint\u001b[0m\u001b[0;34m,\u001b[0m \u001b[0;34m\"{}.pth\"\u001b[0m\u001b[0;34m.\u001b[0m\u001b[0mformat\u001b[0m\u001b[0;34m(\u001b[0m\u001b[0mtime\u001b[0m\u001b[0;34m.\u001b[0m\u001b[0mstrftime\u001b[0m\u001b[0;34m(\u001b[0m\u001b[0;34m\"%d.%m (%H %M)\"\u001b[0m\u001b[0;34m,\u001b[0m \u001b[0mtime\u001b[0m\u001b[0;34m.\u001b[0m\u001b[0mgmtime\u001b[0m\u001b[0;34m(\u001b[0m\u001b[0;34m)\u001b[0m\u001b[0;34m)\u001b[0m\u001b[0;34m)\u001b[0m\u001b[0;34m)\u001b[0m\u001b[0;34m\u001b[0m\u001b[0;34m\u001b[0m\u001b[0m\n\u001b[0;32m--> 109\u001b[0;31m     \u001b[0mtorch\u001b[0m\u001b[0;34m.\u001b[0m\u001b[0msave\u001b[0m\u001b[0;34m(\u001b[0m\u001b[0mstate\u001b[0m\u001b[0;34m,\u001b[0m \u001b[0mfilepath\u001b[0m\u001b[0;34m)\u001b[0m\u001b[0;34m\u001b[0m\u001b[0;34m\u001b[0m\u001b[0m\n\u001b[0m\u001b[1;32m    110\u001b[0m \u001b[0;34m\u001b[0m\u001b[0m\n\u001b[1;32m    111\u001b[0m \u001b[0;32mdef\u001b[0m \u001b[0msave_checkpoint\u001b[0m\u001b[0;34m(\u001b[0m\u001b[0mstate\u001b[0m\u001b[0;34m,\u001b[0m \u001b[0mis_best\u001b[0m\u001b[0;34m,\u001b[0m \u001b[0mcheckpoint\u001b[0m\u001b[0;34m=\u001b[0m\u001b[0;34m'checkpoint'\u001b[0m\u001b[0;34m,\u001b[0m \u001b[0mfilename\u001b[0m\u001b[0;34m=\u001b[0m\u001b[0;34m'checkpoint.pth'\u001b[0m\u001b[0;34m,\u001b[0m \u001b[0msnapshot\u001b[0m\u001b[0;34m=\u001b[0m\u001b[0;32mNone\u001b[0m\u001b[0;34m)\u001b[0m\u001b[0;34m:\u001b[0m\u001b[0;34m\u001b[0m\u001b[0;34m\u001b[0m\u001b[0m\n",
            "\u001b[0;32m/usr/local/lib/python3.6/dist-packages/torch/serialization.py\u001b[0m in \u001b[0;36msave\u001b[0;34m(obj, f, pickle_module, pickle_protocol, _use_new_zipfile_serialization)\u001b[0m\n\u001b[1;32m    367\u001b[0m     \u001b[0m_check_dill_version\u001b[0m\u001b[0;34m(\u001b[0m\u001b[0mpickle_module\u001b[0m\u001b[0;34m)\u001b[0m\u001b[0;34m\u001b[0m\u001b[0;34m\u001b[0m\u001b[0m\n\u001b[1;32m    368\u001b[0m \u001b[0;34m\u001b[0m\u001b[0m\n\u001b[0;32m--> 369\u001b[0;31m     \u001b[0;32mwith\u001b[0m \u001b[0m_open_file_like\u001b[0m\u001b[0;34m(\u001b[0m\u001b[0mf\u001b[0m\u001b[0;34m,\u001b[0m \u001b[0;34m'wb'\u001b[0m\u001b[0;34m)\u001b[0m \u001b[0;32mas\u001b[0m \u001b[0mopened_file\u001b[0m\u001b[0;34m:\u001b[0m\u001b[0;34m\u001b[0m\u001b[0;34m\u001b[0m\u001b[0m\n\u001b[0m\u001b[1;32m    370\u001b[0m         \u001b[0;32mif\u001b[0m \u001b[0m_use_new_zipfile_serialization\u001b[0m\u001b[0;34m:\u001b[0m\u001b[0;34m\u001b[0m\u001b[0;34m\u001b[0m\u001b[0m\n\u001b[1;32m    371\u001b[0m             \u001b[0;32mwith\u001b[0m \u001b[0m_open_zipfile_writer\u001b[0m\u001b[0;34m(\u001b[0m\u001b[0mopened_file\u001b[0m\u001b[0;34m)\u001b[0m \u001b[0;32mas\u001b[0m \u001b[0mopened_zipfile\u001b[0m\u001b[0;34m:\u001b[0m\u001b[0;34m\u001b[0m\u001b[0;34m\u001b[0m\u001b[0m\n",
            "\u001b[0;32m/usr/local/lib/python3.6/dist-packages/torch/serialization.py\u001b[0m in \u001b[0;36m_open_file_like\u001b[0;34m(name_or_buffer, mode)\u001b[0m\n\u001b[1;32m    228\u001b[0m \u001b[0;32mdef\u001b[0m \u001b[0m_open_file_like\u001b[0m\u001b[0;34m(\u001b[0m\u001b[0mname_or_buffer\u001b[0m\u001b[0;34m,\u001b[0m \u001b[0mmode\u001b[0m\u001b[0;34m)\u001b[0m\u001b[0;34m:\u001b[0m\u001b[0;34m\u001b[0m\u001b[0;34m\u001b[0m\u001b[0m\n\u001b[1;32m    229\u001b[0m     \u001b[0;32mif\u001b[0m \u001b[0m_is_path\u001b[0m\u001b[0;34m(\u001b[0m\u001b[0mname_or_buffer\u001b[0m\u001b[0;34m)\u001b[0m\u001b[0;34m:\u001b[0m\u001b[0;34m\u001b[0m\u001b[0;34m\u001b[0m\u001b[0m\n\u001b[0;32m--> 230\u001b[0;31m         \u001b[0;32mreturn\u001b[0m \u001b[0m_open_file\u001b[0m\u001b[0;34m(\u001b[0m\u001b[0mname_or_buffer\u001b[0m\u001b[0;34m,\u001b[0m \u001b[0mmode\u001b[0m\u001b[0;34m)\u001b[0m\u001b[0;34m\u001b[0m\u001b[0;34m\u001b[0m\u001b[0m\n\u001b[0m\u001b[1;32m    231\u001b[0m     \u001b[0;32melse\u001b[0m\u001b[0;34m:\u001b[0m\u001b[0;34m\u001b[0m\u001b[0;34m\u001b[0m\u001b[0m\n\u001b[1;32m    232\u001b[0m         \u001b[0;32mif\u001b[0m \u001b[0;34m'w'\u001b[0m \u001b[0;32min\u001b[0m \u001b[0mmode\u001b[0m\u001b[0;34m:\u001b[0m\u001b[0;34m\u001b[0m\u001b[0;34m\u001b[0m\u001b[0m\n",
            "\u001b[0;32m/usr/local/lib/python3.6/dist-packages/torch/serialization.py\u001b[0m in \u001b[0;36m__init__\u001b[0;34m(self, name, mode)\u001b[0m\n\u001b[1;32m    209\u001b[0m \u001b[0;32mclass\u001b[0m \u001b[0m_open_file\u001b[0m\u001b[0;34m(\u001b[0m\u001b[0m_opener\u001b[0m\u001b[0;34m)\u001b[0m\u001b[0;34m:\u001b[0m\u001b[0;34m\u001b[0m\u001b[0;34m\u001b[0m\u001b[0m\n\u001b[1;32m    210\u001b[0m     \u001b[0;32mdef\u001b[0m \u001b[0m__init__\u001b[0m\u001b[0;34m(\u001b[0m\u001b[0mself\u001b[0m\u001b[0;34m,\u001b[0m \u001b[0mname\u001b[0m\u001b[0;34m,\u001b[0m \u001b[0mmode\u001b[0m\u001b[0;34m)\u001b[0m\u001b[0;34m:\u001b[0m\u001b[0;34m\u001b[0m\u001b[0;34m\u001b[0m\u001b[0m\n\u001b[0;32m--> 211\u001b[0;31m         \u001b[0msuper\u001b[0m\u001b[0;34m(\u001b[0m\u001b[0m_open_file\u001b[0m\u001b[0;34m,\u001b[0m \u001b[0mself\u001b[0m\u001b[0;34m)\u001b[0m\u001b[0;34m.\u001b[0m\u001b[0m__init__\u001b[0m\u001b[0;34m(\u001b[0m\u001b[0mopen\u001b[0m\u001b[0;34m(\u001b[0m\u001b[0mname\u001b[0m\u001b[0;34m,\u001b[0m \u001b[0mmode\u001b[0m\u001b[0;34m)\u001b[0m\u001b[0;34m)\u001b[0m\u001b[0;34m\u001b[0m\u001b[0;34m\u001b[0m\u001b[0m\n\u001b[0m\u001b[1;32m    212\u001b[0m \u001b[0;34m\u001b[0m\u001b[0m\n\u001b[1;32m    213\u001b[0m     \u001b[0;32mdef\u001b[0m \u001b[0m__exit__\u001b[0m\u001b[0;34m(\u001b[0m\u001b[0mself\u001b[0m\u001b[0;34m,\u001b[0m \u001b[0;34m*\u001b[0m\u001b[0margs\u001b[0m\u001b[0;34m)\u001b[0m\u001b[0;34m:\u001b[0m\u001b[0;34m\u001b[0m\u001b[0;34m\u001b[0m\u001b[0m\n",
            "\u001b[0;31mFileNotFoundError\u001b[0m: [Errno 2] No such file or directory: '/content/gdrive/My Drive/checkpoints/exp1/26.11 (13 33).pth'"
          ]
        }
      ]
    },
    {
      "cell_type": "code",
      "metadata": {
        "id": "dqLwQDiTWvJL"
      },
      "source": [
        "print(train_losses)\n",
        "print(valid_losses)\n",
        "print(train_acc_list)\n",
        "print(valid_acc_list)"
      ],
      "execution_count": null,
      "outputs": []
    },
    {
      "cell_type": "code",
      "metadata": {
        "id": "ft4_k-aOy5an"
      },
      "source": [
        ""
      ],
      "execution_count": null,
      "outputs": []
    }
  ]
}